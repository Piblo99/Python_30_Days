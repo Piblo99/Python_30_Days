{
 "cells": [
  {
   "cell_type": "code",
   "execution_count": 1,
   "id": "1f26ca68-cd40-47f4-8b0f-36dbbd430bbd",
   "metadata": {},
   "outputs": [
    {
     "data": {
      "text/plain": [
       "True"
      ]
     },
     "execution_count": 1,
     "metadata": {},
     "output_type": "execute_result"
    }
   ],
   "source": [
    "True"
   ]
  },
  {
   "cell_type": "code",
   "execution_count": 2,
   "id": "8df5fa39-9479-41cc-a434-41b9666fbee7",
   "metadata": {},
   "outputs": [
    {
     "data": {
      "text/plain": [
       "False"
      ]
     },
     "execution_count": 2,
     "metadata": {},
     "output_type": "execute_result"
    }
   ],
   "source": [
    "False"
   ]
  },
  {
   "cell_type": "code",
   "execution_count": 3,
   "id": "df7b2914-edfa-4d1d-a025-bf50698fe3d8",
   "metadata": {},
   "outputs": [
    {
     "name": "stdout",
     "output_type": "stream",
     "text": [
      "hi there\n"
     ]
    }
   ],
   "source": [
    "if True:\n",
    "    print(\"hi there\")"
   ]
  },
  {
   "cell_type": "code",
   "execution_count": 4,
   "id": "ac235847-9993-438a-a8f8-04a72e6bc47c",
   "metadata": {},
   "outputs": [],
   "source": [
    "if False:\n",
    "    print(\"nothing\")"
   ]
  },
  {
   "cell_type": "code",
   "execution_count": 5,
   "id": "187f5211-3786-4532-9303-ad57b2b51f43",
   "metadata": {},
   "outputs": [
    {
     "name": "stdout",
     "output_type": "stream",
     "text": [
      "whats up\n"
     ]
    }
   ],
   "source": [
    "if not False:\n",
    "    print(\"whats up\")"
   ]
  },
  {
   "cell_type": "code",
   "execution_count": 6,
   "id": "3c6845dd-dab0-4881-a5ac-8294725a2216",
   "metadata": {},
   "outputs": [
    {
     "data": {
      "text/plain": [
       "False"
      ]
     },
     "execution_count": 6,
     "metadata": {},
     "output_type": "execute_result"
    }
   ],
   "source": [
    "True == False"
   ]
  },
  {
   "cell_type": "code",
   "execution_count": 7,
   "id": "e7103fd2-c764-4b3b-aaaa-2d2442e78641",
   "metadata": {},
   "outputs": [],
   "source": [
    "var_ = \"this\""
   ]
  },
  {
   "cell_type": "code",
   "execution_count": 8,
   "id": "1617b8e6-5790-4177-9ec1-9d6fff6cce6e",
   "metadata": {},
   "outputs": [],
   "source": [
    "#True = False\n",
    "\n",
    "#  File \"C:\\Users\\paulh\\AppData\\Local\\Temp/ipykernel_6308/1601851819.py\", line 1\n",
    "#    True = False\n",
    "#    ^\n",
    "#SyntaxError: cannot assign to True\n"
   ]
  },
  {
   "cell_type": "code",
   "execution_count": 9,
   "id": "303b8d5d-fade-413f-8665-2914e7af2d42",
   "metadata": {},
   "outputs": [],
   "source": [
    "#for = True\n",
    "#  File \"C:\\Users\\paulh\\AppData\\Local\\Temp/ipykernel_6308/1025135079.py\", line 1\n",
    "#    for = True\n",
    "#        ^\n",
    "#SyntaxError: invalid syntax"
   ]
  },
  {
   "cell_type": "code",
   "execution_count": 10,
   "id": "27ddf8ab-91ff-48f8-8459-5752bfd7db99",
   "metadata": {},
   "outputs": [
    {
     "data": {
      "text/plain": [
       "False"
      ]
     },
     "execution_count": 10,
     "metadata": {},
     "output_type": "execute_result"
    }
   ],
   "source": [
    "10 > 32"
   ]
  },
  {
   "cell_type": "code",
   "execution_count": 11,
   "id": "41108a1f-7dee-4c2c-ba0c-48fae7e83a26",
   "metadata": {},
   "outputs": [
    {
     "data": {
      "text/plain": [
       "True"
      ]
     },
     "execution_count": 11,
     "metadata": {},
     "output_type": "execute_result"
    }
   ],
   "source": [
    "424 < 323433"
   ]
  },
  {
   "cell_type": "code",
   "execution_count": 12,
   "id": "219d698e-ffa6-475f-bcf4-3e03a6d4d2b3",
   "metadata": {},
   "outputs": [
    {
     "data": {
      "text/plain": [
       "True"
      ]
     },
     "execution_count": 12,
     "metadata": {},
     "output_type": "execute_result"
    }
   ],
   "source": [
    "10 > 32 or 10 < 32"
   ]
  },
  {
   "cell_type": "code",
   "execution_count": 13,
   "id": "acd1cf47-4fb1-416c-99eb-6ee236d7c10d",
   "metadata": {},
   "outputs": [
    {
     "data": {
      "text/plain": [
       "True"
      ]
     },
     "execution_count": 13,
     "metadata": {},
     "output_type": "execute_result"
    }
   ],
   "source": [
    "not 10 > 32"
   ]
  },
  {
   "cell_type": "code",
   "execution_count": 14,
   "id": "8577fffd-080e-4281-8dbd-cbb5363d167a",
   "metadata": {},
   "outputs": [
    {
     "data": {
      "text/plain": [
       "True"
      ]
     },
     "execution_count": 14,
     "metadata": {},
     "output_type": "execute_result"
    }
   ],
   "source": [
    "not (10 > 32)"
   ]
  },
  {
   "cell_type": "code",
   "execution_count": 15,
   "id": "09bea0a8-fe69-4aa1-9528-6a0805ba7348",
   "metadata": {},
   "outputs": [
    {
     "data": {
      "text/plain": [
       "False"
      ]
     },
     "execution_count": 15,
     "metadata": {},
     "output_type": "execute_result"
    }
   ],
   "source": [
    "200 > 200"
   ]
  },
  {
   "cell_type": "code",
   "execution_count": 16,
   "id": "baf66607-ed30-491a-aa8e-831cf221a9f7",
   "metadata": {},
   "outputs": [
    {
     "data": {
      "text/plain": [
       "True"
      ]
     },
     "execution_count": 16,
     "metadata": {},
     "output_type": "execute_result"
    }
   ],
   "source": [
    "200 >= 200"
   ]
  },
  {
   "cell_type": "code",
   "execution_count": 17,
   "id": "a9769d1e-c840-4869-8120-8b15aebb8b84",
   "metadata": {},
   "outputs": [
    {
     "data": {
      "text/plain": [
       "True"
      ]
     },
     "execution_count": 17,
     "metadata": {},
     "output_type": "execute_result"
    }
   ],
   "source": [
    "200 > 200 or 200 == 200"
   ]
  },
  {
   "cell_type": "code",
   "execution_count": 18,
   "id": "2218100b-d4fe-45f4-8217-3891de8fdd68",
   "metadata": {},
   "outputs": [
    {
     "data": {
      "text/plain": [
       "True"
      ]
     },
     "execution_count": 18,
     "metadata": {},
     "output_type": "execute_result"
    }
   ],
   "source": [
    "str(True).lower() == \"true\""
   ]
  },
  {
   "cell_type": "code",
   "execution_count": 19,
   "id": "ac7876e2-a771-4547-803b-7f1b0b9d2d04",
   "metadata": {},
   "outputs": [
    {
     "data": {
      "text/plain": [
       "True"
      ]
     },
     "execution_count": 19,
     "metadata": {},
     "output_type": "execute_result"
    }
   ],
   "source": [
    "bool(str(\"true\").title) == True"
   ]
  },
  {
   "cell_type": "code",
   "execution_count": 20,
   "id": "d556655c-59a0-4061-8000-71a80f055b7c",
   "metadata": {},
   "outputs": [],
   "source": [
    "bbc = [1,2,3,4,5]"
   ]
  },
  {
   "cell_type": "code",
   "execution_count": 21,
   "id": "9d2c3bd2-4df9-4239-aa08-ede1a43818de",
   "metadata": {},
   "outputs": [],
   "source": [
    "bbc_sq = []"
   ]
  },
  {
   "cell_type": "code",
   "execution_count": 22,
   "id": "f8f3eb62-6784-4188-819d-874fd38ca492",
   "metadata": {},
   "outputs": [],
   "source": [
    "for num in bbc:\n",
    "    new_number = num ** 2\n",
    "    bbc_sq.append(new_number)"
   ]
  },
  {
   "cell_type": "code",
   "execution_count": 23,
   "id": "454d82fb-ac73-4411-a18e-a2c7eec3efa7",
   "metadata": {},
   "outputs": [
    {
     "data": {
      "text/plain": [
       "[1, 4, 9, 16, 25]"
      ]
     },
     "execution_count": 23,
     "metadata": {},
     "output_type": "execute_result"
    }
   ],
   "source": [
    "bbc_sq"
   ]
  },
  {
   "cell_type": "code",
   "execution_count": 24,
   "id": "d2b71562-6312-4abd-bbeb-375b9bf50706",
   "metadata": {},
   "outputs": [],
   "source": [
    "is_even = []"
   ]
  },
  {
   "cell_type": "code",
   "execution_count": 25,
   "id": "cd03bb79-9787-4bac-bafb-008970eb2dd2",
   "metadata": {},
   "outputs": [],
   "source": [
    "is_odd = []"
   ]
  },
  {
   "cell_type": "code",
   "execution_count": 26,
   "id": "2da814fb-9f9e-4fc8-b03d-f65a55b8c38d",
   "metadata": {},
   "outputs": [
    {
     "name": "stdout",
     "output_type": "stream",
     "text": [
      "this is even\n",
      "this is even\n"
     ]
    }
   ],
   "source": [
    "for num in bbc_sq:\n",
    "    if num % 2 == 0:\n",
    "        print(\"this is even\")\n",
    "        is_even.append(num)\n",
    "    else:\n",
    "        is_odd.append(num)"
   ]
  },
  {
   "cell_type": "code",
   "execution_count": 27,
   "id": "6da45556-e9b9-4d6b-accb-9cb5a079fa1a",
   "metadata": {},
   "outputs": [
    {
     "name": "stdout",
     "output_type": "stream",
     "text": [
      "[4, 16] [1, 9, 25]\n"
     ]
    }
   ],
   "source": [
    "print(is_even, is_odd)"
   ]
  },
  {
   "cell_type": "code",
   "execution_count": 28,
   "id": "27f6b190-5378-4656-9259-1b80d6ffddfd",
   "metadata": {},
   "outputs": [],
   "source": [
    "is_factor_of_3 = []"
   ]
  },
  {
   "cell_type": "code",
   "execution_count": 29,
   "id": "f955fa81-a28a-4ae1-a069-a2f21c33f741",
   "metadata": {},
   "outputs": [],
   "source": [
    "for num in bbc_sq:\n",
    "    if num % 3 == 0:\n",
    "        is_factor_of_3.append(num)\n",
    "    elif num % 2 == 0:\n",
    "        is_even.append(num)\n",
    "    else:\n",
    "        is_odd.append(num)"
   ]
  },
  {
   "cell_type": "code",
   "execution_count": 30,
   "id": "ec6a5414-7062-4976-adbd-00d0e43c54f5",
   "metadata": {},
   "outputs": [
    {
     "data": {
      "text/plain": [
       "[9]"
      ]
     },
     "execution_count": 30,
     "metadata": {},
     "output_type": "execute_result"
    }
   ],
   "source": [
    "is_factor_of_3"
   ]
  },
  {
   "cell_type": "code",
   "execution_count": 31,
   "id": "24a8d15b-2275-4a0d-86b6-a0c1ebfd0ca3",
   "metadata": {},
   "outputs": [
    {
     "name": "stdout",
     "output_type": "stream",
     "text": [
      "[4, 16, 4, 16] [1, 9, 25, 1, 25]\n"
     ]
    }
   ],
   "source": [
    "print(is_even, is_odd)"
   ]
  },
  {
   "cell_type": "code",
   "execution_count": 32,
   "id": "cefa45aa-8aeb-4a07-b670-d56ba05bfe1a",
   "metadata": {},
   "outputs": [],
   "source": [
    "for num in bbc_sq:\n",
    "    if num % 3 == 0:\n",
    "        is_factor_of_3.append(num)\n",
    "    else:\n",
    "        if num % 2 == 0:\n",
    "            is_even.append(num)\n",
    "        else:\n",
    "            is_odd.append(num)"
   ]
  },
  {
   "cell_type": "code",
   "execution_count": 33,
   "id": "ea3299ef-a331-4c17-b519-0e8fc58bf8bb",
   "metadata": {},
   "outputs": [],
   "source": [
    "is_even = []\n",
    "is_odd = []\n",
    "is_factor_of_3 = []"
   ]
  },
  {
   "cell_type": "code",
   "execution_count": 34,
   "id": "baeca4ac-f931-41a6-82e8-276ea12b59c4",
   "metadata": {},
   "outputs": [],
   "source": [
    "for num in bbc_sq:\n",
    "    if num % 3 == 0:\n",
    "        is_factor_of_3.append(num)\n",
    "    if num % 2 == 0:\n",
    "        is_even.append(num)\n",
    "    is_odd.append(num)"
   ]
  },
  {
   "cell_type": "code",
   "execution_count": 35,
   "id": "7f73e489-969b-4964-a625-f06c26288ff6",
   "metadata": {},
   "outputs": [
    {
     "name": "stdout",
     "output_type": "stream",
     "text": [
      "[4, 16] [1, 4, 9, 16, 25]\n"
     ]
    }
   ],
   "source": [
    "print(is_even, is_odd)"
   ]
  },
  {
   "cell_type": "code",
   "execution_count": 36,
   "id": "d0d08c18-9e6f-4d10-94ad-4dc06b5e24b0",
   "metadata": {},
   "outputs": [],
   "source": [
    "#what he meant to do...\n",
    "for num in bbc_sq:\n",
    "    if num % 3 == 0:\n",
    "        is_factor_of_3.append(num)\n",
    "    if num % 2 == 0:\n",
    "        is_even.append(num)\n",
    "    if num % 2 != 0:\n",
    "        is_odd.append(num)"
   ]
  },
  {
   "cell_type": "code",
   "execution_count": 37,
   "id": "3b5c2375-210d-489f-afd4-8d3dd9eae730",
   "metadata": {},
   "outputs": [
    {
     "name": "stdout",
     "output_type": "stream",
     "text": [
      "[9, 9] [4, 16, 4, 16] [1, 4, 9, 16, 25, 1, 9, 25]\n"
     ]
    }
   ],
   "source": [
    "print(is_factor_of_3, is_even, is_odd)"
   ]
  },
  {
   "cell_type": "code",
   "execution_count": 38,
   "id": "a1680d19-cd59-45fa-ae9a-b4e58e98dd1f",
   "metadata": {},
   "outputs": [],
   "source": [
    "x = 10"
   ]
  },
  {
   "cell_type": "code",
   "execution_count": 46,
   "id": "38d36f46-7cdd-40b8-89ac-f03d1e7cf477",
   "metadata": {},
   "outputs": [],
   "source": [
    "i = 0"
   ]
  },
  {
   "cell_type": "code",
   "execution_count": 40,
   "id": "b557902a-9c1e-4407-8b8d-bf20375ae15d",
   "metadata": {},
   "outputs": [
    {
     "name": "stdout",
     "output_type": "stream",
     "text": [
      "0\n",
      "1\n",
      "2\n",
      "3\n",
      "4\n",
      "5\n",
      "6\n",
      "7\n",
      "8\n",
      "9\n"
     ]
    }
   ],
   "source": [
    "while i < x:\n",
    "    print(i)\n",
    "    i = i + 1"
   ]
  },
  {
   "cell_type": "code",
   "execution_count": 41,
   "id": "5e085560-f693-4826-9466-3f2273e77dac",
   "metadata": {},
   "outputs": [],
   "source": [
    "#i = 0\n",
    "#while i < x:\n",
    "#    print(i)"
   ]
  },
  {
   "cell_type": "code",
   "execution_count": 42,
   "id": "a94d7b36-c1e5-4a58-a12d-5e342e16fd9d",
   "metadata": {},
   "outputs": [
    {
     "name": "stdout",
     "output_type": "stream",
     "text": [
      "24 0\n",
      "48 1e-10\n",
      "96 2e-10\n",
      "192 3e-10\n",
      "384 4e-10\n",
      "768 5e-10\n",
      "1536 6e-10\n",
      "3072 7e-10\n",
      "6144 7.999999999999999e-10\n",
      "12288 8.999999999999999e-10\n",
      "24576 9.999999999999999e-10\n",
      "49152 1.1e-09\n",
      "98304 1.2e-09\n",
      "196608 1.3e-09\n"
     ]
    }
   ],
   "source": [
    "x = 10\n",
    "i = 0\n",
    "z = 12\n",
    "while i < x:\n",
    "    z = z * 2\n",
    "    if z > 342900:\n",
    "        break\n",
    "    print(z, i)\n",
    "    i = i + .0000000001"
   ]
  },
  {
   "cell_type": "code",
   "execution_count": 57,
   "id": "8a98bd94-7094-4fe6-b45b-aa4025538660",
   "metadata": {},
   "outputs": [],
   "source": [
    "# x = 10\n",
    "# i = 0\n",
    "# while i < x:\n",
    "#     if i % 2 == 0:\n",
    "#         print(\"even\")\n",
    "#     else:\n",
    "#         continue\n",
    "#     i += 1"
   ]
  },
  {
   "cell_type": "code",
   "execution_count": null,
   "id": "c90f54dc-968a-4fc9-b69c-0263f886e27b",
   "metadata": {},
   "outputs": [],
   "source": [
    "# while i < x:\n",
    "#     print(i)\n",
    "#     if i % 2 == 0:\n",
    "#         print(\"even\")\n",
    "#     else:\n",
    "#         continue\n",
    "#     i += 1"
   ]
  },
  {
   "cell_type": "code",
   "execution_count": 48,
   "id": "8d94c153-5cd7-4126-aa3d-364d6aba625e",
   "metadata": {},
   "outputs": [],
   "source": [
    "# while i < x:\n",
    "#     if i % 2 == 0:\n",
    "#         continue\n",
    "#     else:\n",
    "#         print(\"odd\")\n",
    "#     i += 1"
   ]
  },
  {
   "cell_type": "code",
   "execution_count": 56,
   "id": "fc6a73fd-6e60-4f06-b8ff-958bd2c9d367",
   "metadata": {},
   "outputs": [
    {
     "name": "stdout",
     "output_type": "stream",
     "text": [
      "1\n",
      "3\n",
      "5\n",
      "7\n",
      "9\n"
     ]
    }
   ],
   "source": [
    "i = 0\n",
    "while i < x:\n",
    "    i += 1\n",
    "    if i % 2 == 0:\n",
    "        continue\n",
    "    print(i)"
   ]
  }
 ],
 "metadata": {
  "kernelspec": {
   "display_name": "Python 3 (ipykernel)",
   "language": "python",
   "name": "python3"
  },
  "language_info": {
   "codemirror_mode": {
    "name": "ipython",
    "version": 3
   },
   "file_extension": ".py",
   "mimetype": "text/x-python",
   "name": "python",
   "nbconvert_exporter": "python",
   "pygments_lexer": "ipython3",
   "version": "3.9.7"
  }
 },
 "nbformat": 4,
 "nbformat_minor": 5
}
