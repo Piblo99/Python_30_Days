{
 "cells": [
  {
   "cell_type": "code",
   "execution_count": 50,
   "id": "d8e58338-ec1a-41a0-97ed-dc049ef94b27",
   "metadata": {},
   "outputs": [
    {
     "data": {
      "text/plain": [
       "'hello boomer, this is coomer'"
      ]
     },
     "execution_count": 50,
     "metadata": {},
     "output_type": "execute_result"
    }
   ],
   "source": [
    "\"hello boomer, this is coomer\""
   ]
  },
  {
   "cell_type": "code",
   "execution_count": 3,
   "id": "1eccf39d-b825-43f7-bc16-90543a3b4c92",
   "metadata": {},
   "outputs": [],
   "source": [
    "#f\"hello {name}, this is coomer\""
   ]
  },
  {
   "cell_type": "code",
   "execution_count": 5,
   "id": "1791eb76-549d-46c1-88d4-d24ddd001c11",
   "metadata": {},
   "outputs": [
    {
     "data": {
      "text/plain": [
       "'hello boomer, this is coomer'"
      ]
     },
     "execution_count": 5,
     "metadata": {},
     "output_type": "execute_result"
    }
   ],
   "source": [
    "name = 'boomer'\n",
    "f\"hello {name}, this is coomer\""
   ]
  },
  {
   "cell_type": "code",
   "execution_count": 7,
   "id": "ec18f616-9308-4481-a2f8-c9c1faad9d21",
   "metadata": {},
   "outputs": [
    {
     "name": "stdout",
     "output_type": "stream",
     "text": [
      "Hello Sneed\n",
      "Hello Peedee\n",
      "Hello PJ\n"
     ]
    }
   ],
   "source": [
    "names = [\"Sneed\", \"Peedee\", \"PJ\"]\n",
    "for name in names:\n",
    "    print(f\"Hello {name}\")"
   ]
  },
  {
   "cell_type": "code",
   "execution_count": 13,
   "id": "ca0a5589-2c36-490e-9f92-5827f6353264",
   "metadata": {},
   "outputs": [],
   "source": [
    "msg = \"hi there\" + \" this is cole, \" + \"the end.\""
   ]
  },
  {
   "cell_type": "code",
   "execution_count": 14,
   "id": "6c2061ec-b6e3-43ce-acfc-d97b88db184c",
   "metadata": {},
   "outputs": [
    {
     "data": {
      "text/plain": [
       "'hi there this is cole the end.'"
      ]
     },
     "execution_count": 14,
     "metadata": {},
     "output_type": "execute_result"
    }
   ],
   "source": [
    "msg"
   ]
  },
  {
   "cell_type": "code",
   "execution_count": 15,
   "id": "5fda8a83-fee7-498d-b00f-6930518ab07d",
   "metadata": {},
   "outputs": [
    {
     "data": {
      "text/plain": [
       "'name: Sneed name: Peedee name: PJ '"
      ]
     },
     "execution_count": 15,
     "metadata": {},
     "output_type": "execute_result"
    }
   ],
   "source": [
    "msg = \"\"\n",
    "for i in names:\n",
    "    msg += f\"name: {i} \"\n",
    "msg"
   ]
  },
  {
   "cell_type": "code",
   "execution_count": 23,
   "id": "44634751-597f-4114-a253-639d7037a60e",
   "metadata": {},
   "outputs": [
    {
     "data": {
      "text/plain": [
       "'Hello there,\\n{name} this is an amazing way to do\\nsubbing my cool items.'"
      ]
     },
     "execution_count": 23,
     "metadata": {},
     "output_type": "execute_result"
    }
   ],
   "source": [
    "template = \"\"\"Hello there,\n",
    "{name} this is an amazing way to do\n",
    "subbing my cool items.\"\"\"\n",
    "template"
   ]
  },
  {
   "cell_type": "code",
   "execution_count": 24,
   "id": "edd09441-52d7-4382-b4dd-a6e8621df4d3",
   "metadata": {},
   "outputs": [
    {
     "name": "stdout",
     "output_type": "stream",
     "text": [
      "Hello there,\n",
      "sneed this is an amazing way to do\n",
      "subbing my cool items.\n"
     ]
    }
   ],
   "source": [
    "print(template.format(name='sneed'))"
   ]
  },
  {
   "cell_type": "code",
   "execution_count": 25,
   "id": "9429c222-b131-45c3-8cc8-acc8fad30fb0",
   "metadata": {},
   "outputs": [
    {
     "data": {
      "text/plain": [
       "'\\n'"
      ]
     },
     "execution_count": 25,
     "metadata": {},
     "output_type": "execute_result"
    }
   ],
   "source": [
    "\"\\n\""
   ]
  },
  {
   "cell_type": "code",
   "execution_count": 26,
   "id": "8169971f-98d2-419b-9e8a-0c3218ba2655",
   "metadata": {},
   "outputs": [
    {
     "name": "stdout",
     "output_type": "stream",
     "text": [
      "\n",
      "\n"
     ]
    }
   ],
   "source": [
    "print(\"\\n\")"
   ]
  },
  {
   "cell_type": "code",
   "execution_count": 27,
   "id": "b78227c2-fd41-4ee7-a35a-6c4cccd01a27",
   "metadata": {},
   "outputs": [
    {
     "data": {
      "text/plain": [
       "'hello\\nanother'"
      ]
     },
     "execution_count": 27,
     "metadata": {},
     "output_type": "execute_result"
    }
   ],
   "source": [
    "\"\"\"hello\n",
    "another\"\"\""
   ]
  },
  {
   "cell_type": "code",
   "execution_count": 29,
   "id": "986a42e5-798b-497a-b001-df9068dac9ec",
   "metadata": {},
   "outputs": [
    {
     "data": {
      "text/plain": [
       "'helloanother'"
      ]
     },
     "execution_count": 29,
     "metadata": {},
     "output_type": "execute_result"
    }
   ],
   "source": [
    "\"hello\\nanother\".replace(\"\\n\", \"\")"
   ]
  },
  {
   "cell_type": "code",
   "execution_count": 30,
   "id": "3681da0e-9c53-4c29-8c4c-4dced2e5a4a1",
   "metadata": {},
   "outputs": [
    {
     "data": {
      "text/plain": [
       "'hello another'"
      ]
     },
     "execution_count": 30,
     "metadata": {},
     "output_type": "execute_result"
    }
   ],
   "source": [
    "\"hello\\nanother\".replace(\"\\n\", \" \")"
   ]
  },
  {
   "cell_type": "code",
   "execution_count": 31,
   "id": "57784488-cb5c-4399-8fb9-24674745c959",
   "metadata": {},
   "outputs": [
    {
     "data": {
      "text/plain": [
       "'Hello this is another line or is it?'"
      ]
     },
     "execution_count": 31,
     "metadata": {},
     "output_type": "execute_result"
    }
   ],
   "source": [
    "\"Hello \\\n",
    "this is another line or is it?\""
   ]
  },
  {
   "cell_type": "code",
   "execution_count": 48,
   "id": "f96e0874-9f48-4b54-b862-85828e4a3a12",
   "metadata": {},
   "outputs": [],
   "source": [
    "pi = 3.14159265359"
   ]
  },
  {
   "cell_type": "code",
   "execution_count": 49,
   "id": "d05fbd66-d365-49c5-a234-12294bc92cdb",
   "metadata": {},
   "outputs": [
    {
     "data": {
      "text/plain": [
       "'pi is 3.14'"
      ]
     },
     "execution_count": 49,
     "metadata": {},
     "output_type": "execute_result"
    }
   ],
   "source": [
    "f\"pi is {pi:.2f}\""
   ]
  },
  {
   "cell_type": "code",
   "execution_count": 51,
   "id": "455ae76e-1bae-49f4-afc4-98ddd951907e",
   "metadata": {},
   "outputs": [
    {
     "data": {
      "text/plain": [
       "'pi is 3.1415'"
      ]
     },
     "execution_count": 51,
     "metadata": {},
     "output_type": "execute_result"
    }
   ],
   "source": [
    "f\"pi is {pi:.4f}\""
   ]
  },
  {
   "cell_type": "code",
   "execution_count": null,
   "id": "bd2a2f11-ec07-4cc3-b9ac-509a853f0932",
   "metadata": {},
   "outputs": [],
   "source": []
  }
 ],
 "metadata": {
  "kernelspec": {
   "display_name": "Python 3 (ipykernel)",
   "language": "python",
   "name": "python3"
  },
  "language_info": {
   "codemirror_mode": {
    "name": "ipython",
    "version": 3
   },
   "file_extension": ".py",
   "mimetype": "text/x-python",
   "name": "python",
   "nbconvert_exporter": "python",
   "pygments_lexer": "ipython3",
   "version": "3.9.7"
  }
 },
 "nbformat": 4,
 "nbformat_minor": 5
}
