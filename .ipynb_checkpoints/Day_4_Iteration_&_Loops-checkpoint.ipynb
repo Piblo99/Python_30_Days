{
 "cells": [
  {
   "cell_type": "code",
   "execution_count": 1,
   "id": "07b42939-e377-4900-96d1-297fd5e0210c",
   "metadata": {},
   "outputs": [],
   "source": [
    "my_list = [1,2,3,4,5]"
   ]
  },
  {
   "cell_type": "code",
   "execution_count": 2,
   "id": "b22f3f00-0250-4a81-978a-38c68f924862",
   "metadata": {},
   "outputs": [
    {
     "data": {
      "text/plain": [
       "1"
      ]
     },
     "execution_count": 2,
     "metadata": {},
     "output_type": "execute_result"
    }
   ],
   "source": [
    "my_list[0]"
   ]
  },
  {
   "cell_type": "code",
   "execution_count": 3,
   "id": "53737f57-d8f7-4e1a-94a3-15741436f8b4",
   "metadata": {},
   "outputs": [
    {
     "data": {
      "text/plain": [
       "2"
      ]
     },
     "execution_count": 3,
     "metadata": {},
     "output_type": "execute_result"
    }
   ],
   "source": [
    "my_list[1]"
   ]
  },
  {
   "cell_type": "code",
   "execution_count": 4,
   "id": "fec8c299-45c6-4138-ba67-8a63f7005fa4",
   "metadata": {},
   "outputs": [
    {
     "data": {
      "text/plain": [
       "3"
      ]
     },
     "execution_count": 4,
     "metadata": {},
     "output_type": "execute_result"
    }
   ],
   "source": [
    "my_list[2]"
   ]
  },
  {
   "cell_type": "code",
   "execution_count": 5,
   "id": "e590b222-e6da-4a0f-991f-cd29733183ba",
   "metadata": {},
   "outputs": [
    {
     "data": {
      "text/plain": [
       "4"
      ]
     },
     "execution_count": 5,
     "metadata": {},
     "output_type": "execute_result"
    }
   ],
   "source": [
    "my_list[3]"
   ]
  },
  {
   "cell_type": "code",
   "execution_count": 6,
   "id": "07eab5de-6afc-456d-a98c-45b504f02db8",
   "metadata": {},
   "outputs": [
    {
     "data": {
      "text/plain": [
       "5"
      ]
     },
     "execution_count": 6,
     "metadata": {},
     "output_type": "execute_result"
    }
   ],
   "source": [
    "my_list[4]"
   ]
  },
  {
   "cell_type": "code",
   "execution_count": 7,
   "id": "144e58db-086a-4ac6-8c30-00384c481a9a",
   "metadata": {},
   "outputs": [
    {
     "name": "stdout",
     "output_type": "stream",
     "text": [
      "1\n",
      "2\n",
      "3\n",
      "4\n",
      "5\n"
     ]
    }
   ],
   "source": [
    "for my_var in my_list:\n",
    "    print(my_var)"
   ]
  },
  {
   "cell_type": "code",
   "execution_count": 8,
   "id": "e485605d-8eb7-4407-a47d-119c62e2c14a",
   "metadata": {},
   "outputs": [
    {
     "data": {
      "text/plain": [
       "5"
      ]
     },
     "execution_count": 8,
     "metadata": {},
     "output_type": "execute_result"
    }
   ],
   "source": [
    "my_var"
   ]
  },
  {
   "cell_type": "code",
   "execution_count": 9,
   "id": "0ef21e4e-3bf2-4efb-9b27-14709b62ac0d",
   "metadata": {},
   "outputs": [],
   "source": [
    "# for i in \"bbc\":\n",
    "# print(i)"
   ]
  },
  {
   "cell_type": "code",
   "execution_count": 10,
   "id": "ff9b640e-1e8e-48c1-b978-0bc64602f82c",
   "metadata": {},
   "outputs": [
    {
     "name": "stdout",
     "output_type": "stream",
     "text": [
      "b\n",
      "b\n",
      "c\n"
     ]
    }
   ],
   "source": [
    "for i in \"bbc\":\n",
    "    print(i)"
   ]
  },
  {
   "cell_type": "code",
   "execution_count": 11,
   "id": "fb0f6893-1b95-4b70-881f-1eaa0e37f9a7",
   "metadata": {},
   "outputs": [],
   "source": [
    "# for i in \"bbc\":\n",
    "#     print(i)\n",
    "#    print(i)"
   ]
  },
  {
   "cell_type": "code",
   "execution_count": 12,
   "id": "c7304191-7de7-444a-a733-318f35e22fcb",
   "metadata": {},
   "outputs": [
    {
     "name": "stdout",
     "output_type": "stream",
     "text": [
      "b\n",
      "b\n",
      "b\n",
      "b\n",
      "c\n",
      "c\n"
     ]
    }
   ],
   "source": [
    "for i in \"bbc\":\n",
    "    print(i)\n",
    "    print(i)"
   ]
  },
  {
   "cell_type": "code",
   "execution_count": 13,
   "id": "9e8d8d7c-b98d-42cd-80e9-b0088ee350fc",
   "metadata": {},
   "outputs": [
    {
     "data": {
      "text/plain": [
       "'b'"
      ]
     },
     "execution_count": 13,
     "metadata": {},
     "output_type": "execute_result"
    }
   ],
   "source": [
    "\"bbc\"[1]"
   ]
  },
  {
   "cell_type": "code",
   "execution_count": 14,
   "id": "23c66de8-0f9d-4d60-8c64-2f92ea6404f0",
   "metadata": {},
   "outputs": [],
   "source": [
    "# for x in 10:\n",
    "#     print(x)"
   ]
  },
  {
   "cell_type": "code",
   "execution_count": 15,
   "id": "e5b05449-0623-4429-967a-2c433a9eb41d",
   "metadata": {},
   "outputs": [
    {
     "name": "stdout",
     "output_type": "stream",
     "text": [
      "1\n",
      "0\n"
     ]
    }
   ],
   "source": [
    "for x in \"10\":\n",
    "    print(x)"
   ]
  },
  {
   "cell_type": "code",
   "execution_count": 16,
   "id": "6a54f8a3-a5f7-4918-95b1-34ed3be6f351",
   "metadata": {},
   "outputs": [
    {
     "name": "stdout",
     "output_type": "stream",
     "text": [
      "0\n",
      "1\n",
      "2\n",
      "3\n",
      "4\n",
      "5\n",
      "6\n",
      "7\n",
      "8\n",
      "9\n"
     ]
    }
   ],
   "source": [
    "for x in range(0, 10):\n",
    "    print(x)"
   ]
  },
  {
   "cell_type": "code",
   "execution_count": 17,
   "id": "5f32adf2-eaf0-4fe7-af82-d16b5b29022c",
   "metadata": {},
   "outputs": [],
   "source": [
    "user_1 = {'username': 'Sneed3', 'id':1}"
   ]
  },
  {
   "cell_type": "code",
   "execution_count": 18,
   "id": "1eb0ebbc-f3ae-442d-b096-ab33694a0601",
   "metadata": {},
   "outputs": [],
   "source": [
    "user_2 = {'username': 'bbc', 'id': 2}"
   ]
  },
  {
   "cell_type": "code",
   "execution_count": 19,
   "id": "40a0e635-78dc-48eb-b001-4a45bba01c79",
   "metadata": {},
   "outputs": [],
   "source": [
    "my_users = [user_1, user_2]"
   ]
  },
  {
   "cell_type": "code",
   "execution_count": 20,
   "id": "028f3113-dd20-4058-9c62-02216dd601b5",
   "metadata": {},
   "outputs": [
    {
     "name": "stdout",
     "output_type": "stream",
     "text": [
      "{'username': 'Sneed3', 'id': 1}\n",
      "{'username': 'bbc', 'id': 2}\n"
     ]
    }
   ],
   "source": [
    "for user in my_users:\n",
    "    print(user)"
   ]
  },
  {
   "cell_type": "code",
   "execution_count": 21,
   "id": "23443cb8-aaf2-40c2-b6ac-c5d5024ce95f",
   "metadata": {},
   "outputs": [],
   "source": [
    "# for user in my_users:\n",
    "#     print(user['email'])"
   ]
  },
  {
   "cell_type": "code",
   "execution_count": 22,
   "id": "9e043953-7801-44ca-885c-29443cf52c8b",
   "metadata": {},
   "outputs": [],
   "source": [
    "user_2 = {'username': 'bbc', 'id':2, 'email': 'bbc@bbc.bbc'}"
   ]
  },
  {
   "cell_type": "code",
   "execution_count": 23,
   "id": "2a12bb2e-4f21-4c15-8d2a-2d2f99169745",
   "metadata": {},
   "outputs": [
    {
     "name": "stdout",
     "output_type": "stream",
     "text": [
      "[{'username': 'Sneed3', 'id': 1}, {'username': 'bbc', 'id': 2}]\n"
     ]
    }
   ],
   "source": [
    "print(my_users)"
   ]
  },
  {
   "cell_type": "code",
   "execution_count": 24,
   "id": "9e7cc317-c5a6-46a6-a488-72de2a07d980",
   "metadata": {},
   "outputs": [],
   "source": [
    "my_users = [user_1, user_2]"
   ]
  },
  {
   "cell_type": "code",
   "execution_count": 25,
   "id": "2ad8a097-5ff8-4221-8b5d-8ec260dc81e0",
   "metadata": {},
   "outputs": [
    {
     "name": "stdout",
     "output_type": "stream",
     "text": [
      "[{'username': 'Sneed3', 'id': 1}, {'username': 'bbc', 'id': 2, 'email': 'bbc@bbc.bbc'}]\n"
     ]
    }
   ],
   "source": [
    "print(my_users)"
   ]
  },
  {
   "cell_type": "code",
   "execution_count": 26,
   "id": "7e9b04ca-68fc-4c73-8ad3-025ca016baf2",
   "metadata": {},
   "outputs": [],
   "source": [
    "# for user in my_users:\n",
    "#     print(user['email'])"
   ]
  },
  {
   "cell_type": "code",
   "execution_count": 27,
   "id": "7a04767e-3e59-4580-8fd6-bbd2c1e682dc",
   "metadata": {},
   "outputs": [
    {
     "name": "stdout",
     "output_type": "stream",
     "text": [
      "bbc@bbc.bbc\n"
     ]
    }
   ],
   "source": [
    "for user in my_users:\n",
    "    if 'email' in user:\n",
    "        print(user['email'])"
   ]
  },
  {
   "cell_type": "code",
   "execution_count": 28,
   "id": "d6a3e194-e3dc-4792-895d-bfa3e46fa597",
   "metadata": {},
   "outputs": [],
   "source": [
    "selected_user = {}"
   ]
  },
  {
   "cell_type": "code",
   "execution_count": 29,
   "id": "63b62678-b34f-41eb-88b9-61268bb87256",
   "metadata": {},
   "outputs": [],
   "source": [
    "my_user_lookup = 2"
   ]
  },
  {
   "cell_type": "code",
   "execution_count": 30,
   "id": "8580ab05-c050-4c2b-b7ff-ae9d29b74d04",
   "metadata": {},
   "outputs": [],
   "source": [
    "for user in my_users:\n",
    "    if 'id' in user:\n",
    "        if user['id'] == my_user_lookup:\n",
    "            selected_user = user"
   ]
  },
  {
   "cell_type": "code",
   "execution_count": 31,
   "id": "94688c56-6584-43eb-a8a9-2484511e9307",
   "metadata": {},
   "outputs": [
    {
     "name": "stdout",
     "output_type": "stream",
     "text": [
      "{'username': 'bbc', 'id': 2, 'email': 'bbc@bbc.bbc'}\n"
     ]
    }
   ],
   "source": [
    "print(selected_user)"
   ]
  },
  {
   "cell_type": "code",
   "execution_count": 32,
   "id": "85ed82f2-4f3f-4aa9-9d9d-e058040fc89d",
   "metadata": {},
   "outputs": [
    {
     "name": "stdout",
     "output_type": "stream",
     "text": [
      "0\n",
      "1\n",
      "2\n",
      "3\n",
      "4\n",
      "5\n",
      "6\n",
      "7\n",
      "8\n",
      "9\n"
     ]
    }
   ],
   "source": [
    "for x in range(0, 10):\n",
    "    print(x)"
   ]
  },
  {
   "cell_type": "code",
   "execution_count": 33,
   "id": "f72a0f02-60af-4fcb-b82f-c9607dfdbfd8",
   "metadata": {},
   "outputs": [
    {
     "name": "stdout",
     "output_type": "stream",
     "text": [
      "{'username': 'Sneed3', 'id': 1}\n",
      "{'username': 'bbc', 'id': 2, 'email': 'bbc@bbc.bbc'}\n"
     ]
    }
   ],
   "source": [
    "for x in range(0, 10):\n",
    "    for user in my_users:\n",
    "        if user['id'] == x:\n",
    "            print(user)"
   ]
  }
 ],
 "metadata": {
  "kernelspec": {
   "display_name": "Python 3 (ipykernel)",
   "language": "python",
   "name": "python3"
  },
  "language_info": {
   "codemirror_mode": {
    "name": "ipython",
    "version": 3
   },
   "file_extension": ".py",
   "mimetype": "text/x-python",
   "name": "python",
   "nbconvert_exporter": "python",
   "pygments_lexer": "ipython3",
   "version": "3.9.7"
  }
 },
 "nbformat": 4,
 "nbformat_minor": 5
}
