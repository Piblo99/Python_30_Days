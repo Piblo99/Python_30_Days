{
 "cells": [
  {
   "cell_type": "code",
   "execution_count": 1,
   "id": "5ca28109-c89e-4c81-9309-ce5647be4bc7",
   "metadata": {},
   "outputs": [
    {
     "data": {
      "text/plain": [
       "104329"
      ]
     },
     "execution_count": 1,
     "metadata": {},
     "output_type": "execute_result"
    }
   ],
   "source": [
    "323 * 323"
   ]
  },
  {
   "cell_type": "code",
   "execution_count": 2,
   "id": "6010db79-120f-4715-a1e9-4d2ba6e2589d",
   "metadata": {},
   "outputs": [
    {
     "data": {
      "text/plain": [
       "19"
      ]
     },
     "execution_count": 2,
     "metadata": {},
     "output_type": "execute_result"
    }
   ],
   "source": [
    "42 - 23"
   ]
  },
  {
   "cell_type": "code",
   "execution_count": 3,
   "id": "46e88eb5-0eab-4d7b-966f-ae236c26c266",
   "metadata": {},
   "outputs": [
    {
     "data": {
      "text/plain": [
       "18.391304347826086"
      ]
     },
     "execution_count": 3,
     "metadata": {},
     "output_type": "execute_result"
    }
   ],
   "source": [
    "423 / 23"
   ]
  },
  {
   "cell_type": "code",
   "execution_count": 4,
   "id": "99d52190-27d0-4cdc-9c81-7237154b6fe0",
   "metadata": {},
   "outputs": [],
   "source": [
    "string = \"Hello world\""
   ]
  },
  {
   "cell_type": "code",
   "execution_count": 5,
   "id": "168b63a6-088b-4f4e-b11c-6f2701a869de",
   "metadata": {},
   "outputs": [
    {
     "name": "stdout",
     "output_type": "stream",
     "text": [
      "Hello world\n"
     ]
    }
   ],
   "source": [
    "print(string)"
   ]
  },
  {
   "cell_type": "code",
   "execution_count": 6,
   "id": "dde9a36a-7835-41bf-a0d4-c2805bc4312c",
   "metadata": {},
   "outputs": [],
   "source": [
    "my_cart = [12.99, 312, 32, 142]"
   ]
  },
  {
   "cell_type": "code",
   "execution_count": 7,
   "id": "4429690f-2d9a-41b5-8566-5e9f1af682b3",
   "metadata": {},
   "outputs": [
    {
     "data": {
      "text/plain": [
       "498.99"
      ]
     },
     "execution_count": 7,
     "metadata": {},
     "output_type": "execute_result"
    }
   ],
   "source": [
    "sum(my_cart)"
   ]
  },
  {
   "cell_type": "code",
   "execution_count": 8,
   "id": "b2181356-fa7e-44e9-91e3-ec52a7cc54c1",
   "metadata": {},
   "outputs": [],
   "source": [
    "my_cart.append(39.99)"
   ]
  },
  {
   "cell_type": "code",
   "execution_count": 9,
   "id": "224c46c4-7921-4671-bdb6-4ff9dea1c706",
   "metadata": {},
   "outputs": [
    {
     "data": {
      "text/plain": [
       "[12.99, 312, 32, 142, 39.99]"
      ]
     },
     "execution_count": 9,
     "metadata": {},
     "output_type": "execute_result"
    }
   ],
   "source": [
    "my_cart"
   ]
  },
  {
   "cell_type": "code",
   "execution_count": 10,
   "id": "b51b2963-6fcd-4eb0-9e9e-56e07e6f6552",
   "metadata": {},
   "outputs": [
    {
     "data": {
      "text/plain": [
       "5"
      ]
     },
     "execution_count": 10,
     "metadata": {},
     "output_type": "execute_result"
    }
   ],
   "source": [
    "len(my_cart)"
   ]
  },
  {
   "cell_type": "code",
   "execution_count": 11,
   "id": "e9d42169-fdfd-44d0-a7c6-f283edb0cfac",
   "metadata": {},
   "outputs": [
    {
     "data": {
      "text/plain": [
       "142"
      ]
     },
     "execution_count": 11,
     "metadata": {},
     "output_type": "execute_result"
    }
   ],
   "source": [
    "my_cart[3]"
   ]
  },
  {
   "cell_type": "code",
   "execution_count": 12,
   "id": "7e234904-35e9-4041-8b51-c17d5982c72e",
   "metadata": {},
   "outputs": [
    {
     "data": {
      "text/plain": [
       "32"
      ]
     },
     "execution_count": 12,
     "metadata": {},
     "output_type": "execute_result"
    }
   ],
   "source": [
    "my_cart[2]"
   ]
  },
  {
   "cell_type": "code",
   "execution_count": 13,
   "id": "e61aaec3-68a7-4583-add8-0d8dd06871f3",
   "metadata": {},
   "outputs": [
    {
     "data": {
      "text/plain": [
       "3840"
      ]
     },
     "execution_count": 13,
     "metadata": {},
     "output_type": "execute_result"
    }
   ],
   "source": [
    "my_cart[2] * 120"
   ]
  },
  {
   "cell_type": "code",
   "execution_count": 14,
   "id": "7a88d2df-888e-4eff-9241-07c6afdd02cb",
   "metadata": {},
   "outputs": [],
   "source": [
    "my_string = \"hello world\""
   ]
  },
  {
   "cell_type": "code",
   "execution_count": 15,
   "id": "29558b86-d9b8-4de7-ab78-839b2e912a35",
   "metadata": {},
   "outputs": [
    {
     "data": {
      "text/plain": [
       "11"
      ]
     },
     "execution_count": 15,
     "metadata": {},
     "output_type": "execute_result"
    }
   ],
   "source": [
    "len(my_string)"
   ]
  },
  {
   "cell_type": "code",
   "execution_count": 16,
   "id": "923d7738-df8a-42fe-9744-a5066d645395",
   "metadata": {},
   "outputs": [
    {
     "data": {
      "text/plain": [
       "'o'"
      ]
     },
     "execution_count": 16,
     "metadata": {},
     "output_type": "execute_result"
    }
   ],
   "source": [
    "my_string[4]"
   ]
  },
  {
   "cell_type": "code",
   "execution_count": 17,
   "id": "c9447532-f590-4b0d-b9ed-77ef7f4ddaf2",
   "metadata": {},
   "outputs": [],
   "source": [
    "my_items = [\"mouse\", \"laptop\", \"mic\", \"screen\", \"snack\"]"
   ]
  },
  {
   "cell_type": "code",
   "execution_count": 18,
   "id": "e5f5d8f8-d654-4883-a6d6-5ec51e2139fa",
   "metadata": {},
   "outputs": [
    {
     "data": {
      "text/plain": [
       "['mouse', 'laptop', 'mic', 'screen', 'snack']"
      ]
     },
     "execution_count": 18,
     "metadata": {},
     "output_type": "execute_result"
    }
   ],
   "source": [
    "my_items"
   ]
  },
  {
   "cell_type": "code",
   "execution_count": 19,
   "id": "f6e71606-636d-4db3-9ca2-fcffb6c8d028",
   "metadata": {},
   "outputs": [
    {
     "data": {
      "text/plain": [
       "312"
      ]
     },
     "execution_count": 19,
     "metadata": {},
     "output_type": "execute_result"
    }
   ],
   "source": [
    "my_cart[1]"
   ]
  },
  {
   "cell_type": "code",
   "execution_count": 20,
   "id": "e34aef7d-379a-4434-bf75-386a5f104e52",
   "metadata": {},
   "outputs": [
    {
     "data": {
      "text/plain": [
       "'laptop'"
      ]
     },
     "execution_count": 20,
     "metadata": {},
     "output_type": "execute_result"
    }
   ],
   "source": [
    "my_items[1]"
   ]
  },
  {
   "cell_type": "code",
   "execution_count": 21,
   "id": "50dc8931-21aa-4246-bf88-c45d369f5a67",
   "metadata": {},
   "outputs": [],
   "source": [
    "my_products = [my_items, my_cart]"
   ]
  },
  {
   "cell_type": "code",
   "execution_count": 22,
   "id": "c2b2bdd3-ae90-488d-9148-988bfa05ba04",
   "metadata": {},
   "outputs": [
    {
     "data": {
      "text/plain": [
       "[['mouse', 'laptop', 'mic', 'screen', 'snack'], [12.99, 312, 32, 142, 39.99]]"
      ]
     },
     "execution_count": 22,
     "metadata": {},
     "output_type": "execute_result"
    }
   ],
   "source": [
    "my_products"
   ]
  },
  {
   "cell_type": "code",
   "execution_count": 23,
   "id": "5076c078-4dbe-434a-801b-17e5aa7fad97",
   "metadata": {},
   "outputs": [],
   "source": [
    "my_list = [1,2,3,4,5]"
   ]
  },
  {
   "cell_type": "code",
   "execution_count": 24,
   "id": "bfebf280-a086-434c-9e36-da9bbc43f95b",
   "metadata": {},
   "outputs": [],
   "source": [
    "my_data = {\"name\": \"Sneed Weed\"}"
   ]
  },
  {
   "cell_type": "code",
   "execution_count": 25,
   "id": "ad179892-ed42-4cc8-93d4-9fe7c2d6e657",
   "metadata": {},
   "outputs": [
    {
     "data": {
      "text/plain": [
       "'Sneed Weed'"
      ]
     },
     "execution_count": 25,
     "metadata": {},
     "output_type": "execute_result"
    }
   ],
   "source": [
    "my_data[\"name\"]"
   ]
  },
  {
   "cell_type": "code",
   "execution_count": 26,
   "id": "1e89ff86-ed2e-4b6e-88ab-716baf68e106",
   "metadata": {},
   "outputs": [],
   "source": [
    "my_data = {\"name\": \"Sneed Weed\", \"location\": \"Sneedville\"}"
   ]
  },
  {
   "cell_type": "code",
   "execution_count": 27,
   "id": "84785ea3-8a82-4b34-aacd-79e6c13ff527",
   "metadata": {},
   "outputs": [
    {
     "ename": "KeyError",
     "evalue": "0",
     "output_type": "error",
     "traceback": [
      "\u001b[1;31m---------------------------------------------------------------------------\u001b[0m",
      "\u001b[1;31mKeyError\u001b[0m                                  Traceback (most recent call last)",
      "\u001b[1;32m~\\AppData\\Local\\Temp/ipykernel_9424/4100730852.py\u001b[0m in \u001b[0;36m<module>\u001b[1;34m\u001b[0m\n\u001b[1;32m----> 1\u001b[1;33m \u001b[0mmy_data\u001b[0m\u001b[1;33m[\u001b[0m\u001b[1;36m0\u001b[0m\u001b[1;33m]\u001b[0m\u001b[1;33m\u001b[0m\u001b[1;33m\u001b[0m\u001b[0m\n\u001b[0m",
      "\u001b[1;31mKeyError\u001b[0m: 0"
     ]
    }
   ],
   "source": [
    "my_data[0]"
   ]
  },
  {
   "cell_type": "code",
   "execution_count": 28,
   "id": "5dbad6a3-c895-4b7b-838f-13926beae345",
   "metadata": {},
   "outputs": [
    {
     "data": {
      "text/plain": [
       "dict_keys(['name', 'location'])"
      ]
     },
     "execution_count": 28,
     "metadata": {},
     "output_type": "execute_result"
    }
   ],
   "source": [
    "my_data.keys()"
   ]
  },
  {
   "cell_type": "code",
   "execution_count": 29,
   "id": "386ab40c-0911-4059-bb6e-c7ae53ecb57f",
   "metadata": {},
   "outputs": [
    {
     "data": {
      "text/plain": [
       "['name', 'location']"
      ]
     },
     "execution_count": 29,
     "metadata": {},
     "output_type": "execute_result"
    }
   ],
   "source": [
    "list(my_data.keys())"
   ]
  },
  {
   "cell_type": "code",
   "execution_count": 30,
   "id": "c0299b0f-351f-4384-af13-1c749ec31482",
   "metadata": {},
   "outputs": [
    {
     "data": {
      "text/plain": [
       "'name'"
      ]
     },
     "execution_count": 30,
     "metadata": {},
     "output_type": "execute_result"
    }
   ],
   "source": [
    "list(my_data.keys())[0]"
   ]
  },
  {
   "cell_type": "code",
   "execution_count": 31,
   "id": "e7df29f0-21ad-43d1-973d-ce8f030f43f0",
   "metadata": {},
   "outputs": [
    {
     "ename": "AttributeError",
     "evalue": "'dict' object has no attribute 'append'",
     "output_type": "error",
     "traceback": [
      "\u001b[1;31m---------------------------------------------------------------------------\u001b[0m",
      "\u001b[1;31mAttributeError\u001b[0m                            Traceback (most recent call last)",
      "\u001b[1;32m~\\AppData\\Local\\Temp/ipykernel_9424/2088580466.py\u001b[0m in \u001b[0;36m<module>\u001b[1;34m\u001b[0m\n\u001b[1;32m----> 1\u001b[1;33m \u001b[0mmy_data\u001b[0m\u001b[1;33m.\u001b[0m\u001b[0mappend\u001b[0m\u001b[1;33m(\u001b[0m\u001b[1;33m{\u001b[0m\u001b[1;34m\"occ\"\u001b[0m\u001b[1;33m:\u001b[0m \u001b[1;34m\"coder\"\u001b[0m\u001b[1;33m}\u001b[0m\u001b[1;33m)\u001b[0m\u001b[1;33m\u001b[0m\u001b[1;33m\u001b[0m\u001b[0m\n\u001b[0m",
      "\u001b[1;31mAttributeError\u001b[0m: 'dict' object has no attribute 'append'"
     ]
    }
   ],
   "source": [
    "my_data.append({\"occ\": \"coder\"})"
   ]
  },
  {
   "cell_type": "code",
   "execution_count": 32,
   "id": "9154d99f-f858-461f-9f5c-a1c59fcfc8ae",
   "metadata": {},
   "outputs": [],
   "source": [
    "my_data[\"occ\"] = \"Coder\""
   ]
  },
  {
   "cell_type": "code",
   "execution_count": 33,
   "id": "dee19a5a-c1ba-4962-993f-93881a99774f",
   "metadata": {},
   "outputs": [
    {
     "data": {
      "text/plain": [
       "{'name': 'Sneed Weed', 'location': 'Sneedville', 'occ': 'Coder'}"
      ]
     },
     "execution_count": 33,
     "metadata": {},
     "output_type": "execute_result"
    }
   ],
   "source": [
    "my_data"
   ]
  },
  {
   "cell_type": "code",
   "execution_count": 34,
   "id": "8720f15d-75fc-4099-ae6b-7e671a1f2fec",
   "metadata": {},
   "outputs": [],
   "source": [
    "user_1 = {\"name\": \"James Bond\"}"
   ]
  },
  {
   "cell_type": "code",
   "execution_count": 35,
   "id": "c86c0cad-9471-4b89-b99a-aa3409d9f1cc",
   "metadata": {},
   "outputs": [],
   "source": [
    "user_2 = {\"name\": \"Ned Stark\"}"
   ]
  },
  {
   "cell_type": "code",
   "execution_count": 36,
   "id": "0df52ba7-f5ca-4b2d-bea7-50dd0a5cd77e",
   "metadata": {},
   "outputs": [],
   "source": [
    "my_users = [user_1, user_2]"
   ]
  },
  {
   "cell_type": "code",
   "execution_count": 37,
   "id": "3188d4b7-e1e3-41d4-a72a-6b29d6096833",
   "metadata": {},
   "outputs": [
    {
     "data": {
      "text/plain": [
       "[{'name': 'James Bond'}, {'name': 'Ned Stark'}]"
      ]
     },
     "execution_count": 37,
     "metadata": {},
     "output_type": "execute_result"
    }
   ],
   "source": [
    "my_users"
   ]
  }
 ],
 "metadata": {
  "kernelspec": {
   "display_name": "Python 3 (ipykernel)",
   "language": "python",
   "name": "python3"
  },
  "language_info": {
   "codemirror_mode": {
    "name": "ipython",
    "version": 3
   },
   "file_extension": ".py",
   "mimetype": "text/x-python",
   "name": "python",
   "nbconvert_exporter": "python",
   "pygments_lexer": "ipython3",
   "version": "3.9.7"
  }
 },
 "nbformat": 4,
 "nbformat_minor": 5
}
